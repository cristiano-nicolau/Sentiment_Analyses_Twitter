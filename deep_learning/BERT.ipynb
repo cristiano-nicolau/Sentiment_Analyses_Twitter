{
 "cells": [
  {
   "cell_type": "code",
   "execution_count": 1,
   "id": "f47d78cc",
   "metadata": {},
   "outputs": [],
   "source": [
    "import pandas as pd\n",
    "import matplotlib.pyplot as plt\n",
    "import numpy as np\n",
    "import seaborn as sns\n",
    "from sklearn.metrics import accuracy_score, classification_report, confusion_matrix\n",
    "from sklearn.preprocessing import LabelEncoder\n",
    "from sklearn.model_selection import train_test_split\n",
    "import sys\n",
    "import os\n",
    "import warnings\n",
    "warnings.filterwarnings('ignore')\n",
    "import torch\n",
    "from transformers import (\n",
    "    AutoTokenizer, \n",
    "    AutoModelForSequenceClassification,\n",
    "    TrainingArguments, \n",
    "    Trainer,\n",
    "    DataCollatorWithPadding,\n",
    "    EarlyStoppingCallback\n",
    ")\n",
    "from datasets import Dataset\n",
    "import torch.nn.functional as F"
   ]
  },
  {
   "cell_type": "code",
   "execution_count": 2,
   "id": "5e621337",
   "metadata": {},
   "outputs": [],
   "source": [
    "twitts_train = pd.read_csv(\"../data/twitter_training.csv\")\n",
    "twitts_valid = pd.read_csv(\"../data/twitter_validation.csv\")"
   ]
  },
  {
   "cell_type": "code",
   "execution_count": 3,
   "id": "32b33066",
   "metadata": {},
   "outputs": [
    {
     "name": "stdout",
     "output_type": "stream",
     "text": [
      "Number of duplicate tweets in training set: 2700\n",
      "Number of duplicate tweets in validation set: 0\n",
      "Number of nan values in training set: 686\n",
      "Number of nan values in validation set: 0\n",
      "Number of tweets in training set after cleaning: 69490\n",
      "Number of tweets in validation set after cleaning: 998\n",
      "Number of duplicate tweets in training set: 0\n",
      "Number of duplicate tweets in validation set: 0\n",
      "Number of nan values in training set: 0\n",
      "Number of nan values in validation set: 0\n"
     ]
    }
   ],
   "source": [
    "column_name=['tweetID','entity','sentiment','tweet_content']\n",
    "twitts_train.columns=column_name\n",
    "twitts_valid.columns=column_name\n",
    "# see the  duplicate tweets\n",
    "print(\"Number of duplicate tweets in training set:\", twitts_train.duplicated().sum())\n",
    "print(\"Number of duplicate tweets in validation set:\", twitts_valid.duplicated().sum())\n",
    "# see the nan values\n",
    "print(\"Number of nan values in training set:\", twitts_train.isnull().sum().sum())\n",
    "print(\"Number of nan values in validation set:\", twitts_valid.isnull().sum().sum())\n",
    "\n",
    "# clean the duplicated tweets\n",
    "twitts_train = twitts_train.drop_duplicates(subset=['tweet_content'])\n",
    "twitts_valid = twitts_valid.drop_duplicates(subset=['tweet_content'])\n",
    "\n",
    "# clean the empty tweets\n",
    "twitts_train = twitts_train.dropna(subset=['tweet_content'])\n",
    "twitts_valid = twitts_valid.dropna(subset=['tweet_content'])\n",
    "\n",
    "# lower case the sentiment labels\n",
    "twitts_train['sentiment'] = twitts_train['sentiment'].str.lower()\n",
    "twitts_valid['sentiment'] = twitts_valid['sentiment'].str.lower()\n",
    "\n",
    "# Reset index after cleaning\n",
    "twitts_train.reset_index(drop=True, inplace=True)\n",
    "twitts_valid.reset_index(drop=True, inplace=True)\n",
    "\n",
    "print(\"Number of tweets in training set after cleaning:\", len(twitts_train))\n",
    "print(\"Number of tweets in validation set after cleaning:\", len(twitts_valid))\n",
    "# see the  duplicate tweets\n",
    "print(\"Number of duplicate tweets in training set:\", twitts_train.duplicated().sum())\n",
    "print(\"Number of duplicate tweets in validation set:\", twitts_valid.duplicated().sum())\n",
    "# see the nan values\n",
    "print(\"Number of nan values in training set:\", twitts_train.isnull().sum().sum())\n",
    "print(\"Number of nan values in validation set:\", twitts_valid.isnull().sum().sum())\n",
    "\n",
    "# Remove the irrelevant sentiment label\n",
    "twitts_train = twitts_train[twitts_train['sentiment'].isin(['positive', 'negative', 'neutral'])]\n",
    "twitts_valid = twitts_valid[twitts_valid['sentiment'].isin(['positive', 'negative', 'neutral'])]\n"
   ]
  },
  {
   "cell_type": "code",
   "execution_count": 4,
   "id": "10372c14",
   "metadata": {},
   "outputs": [],
   "source": [
    "twitts_train.drop(columns=['tweetID', 'entity'], inplace=True)\n",
    "twitts_valid.drop(columns=['tweetID', 'entity'], inplace=True)"
   ]
  },
  {
   "cell_type": "code",
   "execution_count": 5,
   "id": "bf27f6cf",
   "metadata": {},
   "outputs": [
    {
     "name": "stdout",
     "output_type": "stream",
     "text": [
      "[['coming', 'border', 'kill'], ['getting', 'borderland', 'kill'], ['coming', 'borderland', 'murder'], ['getting', 'borderland', 'murder'], ['getting', 'borderland', 'murder'], ['spent', 'hour', 'making', 'something', 'know', 'huge', 'borderland', 'maya', 'favorite', 'character', 'decided', 'make', 'wallpaper', 'original', 'image', 'versus', 'creation', 'made', 'enjoy', 'twitter', 'mlsiwfjg'], ['spent', 'couple', 'hour', 'something', 'know', 'huge', 'borderland', 'maya', 'favorite', 'character', 'decided', 'make', 'wallpaper', 'original', 'picture', 'compared', 'creation', 'made', 'twitter', 'mlsiwfjg'], ['spent', 'hour', 'something', 'know', 'huge', 'borderland', 'maya', 'favorite', 'character'], ['spent', 'hour', 'making', 'something', 'know', 'huge', 'rhandlerr', 'maya', 'favorite', 'character', 'decided', 'make', 'wallpaper', 'original', 'image', 'versus', 'creation', 'made', 'enjoy', 'twitter', 'mlsiwfjg'], ['spent', 'hour', 'making', 'something', 'know', 'huge', 'rhandlerr', 'maya', 'favorite', 'character', 'decided', 'make', 'wallpaper', 'original', 'image', 'versus', 'creation', 'made', 'enjoy', 'twitter', 'mlsiwfjg']]\n"
     ]
    }
   ],
   "source": [
    "data = pd.concat([twitts_train, twitts_valid], ignore_index=True)\n",
    "\n",
    "import os\n",
    "import sys\n",
    "sys.path.append(os.path.abspath(os.path.join(os.getcwd(), '..')))\n",
    "from utils.data_processing import process_tokenize\n",
    "\n",
    "x=data.drop('sentiment',axis=1)\n",
    "y=data.sentiment\n",
    "\n",
    "texts=list(x['tweet_content'])\n",
    "cleaned_text = [process_tokenize(text) for text in texts]\n",
    "print(cleaned_text[:10])"
   ]
  },
  {
   "cell_type": "code",
   "execution_count": 6,
   "id": "5b6c9fa4",
   "metadata": {},
   "outputs": [
    {
     "name": "stdout",
     "output_type": "stream",
     "text": [
      "Label mapping: {'negative': 0, 'neutral': 1, 'positive': 2}\n"
     ]
    }
   ],
   "source": [
    "label_encoder = LabelEncoder()\n",
    "y_encoded = label_encoder.fit_transform(y)\n",
    "print(\"Label mapping:\", dict(zip(label_encoder.classes_, range(len(label_encoder.classes_)))))\n",
    "\n"
   ]
  },
  {
   "cell_type": "code",
   "execution_count": null,
   "id": "6da3da68",
   "metadata": {},
   "outputs": [
    {
     "name": "stdout",
     "output_type": "stream",
     "text": [
      "Treino: 46480, Teste: 11621\n"
     ]
    }
   ],
   "source": [
    "X_train, X_test, y_train, y_test = train_test_split(\n",
    "    cleaned_text, y_encoded, \n",
    "    test_size=0.3, \n",
    "    random_state=42, \n",
    "    stratify=y_encoded\n",
    ")\n",
    "\n",
    "print(f\"Treino: {len(X_train)}, Teste: {len(X_test)}\")"
   ]
  },
  {
   "cell_type": "code",
   "execution_count": 8,
   "id": "b4b03482",
   "metadata": {},
   "outputs": [
    {
     "name": "stderr",
     "output_type": "stream",
     "text": [
      "Some weights of BertForSequenceClassification were not initialized from the model checkpoint at bert-base-uncased and are newly initialized: ['classifier.bias', 'classifier.weight']\n",
      "You should probably TRAIN this model on a down-stream task to be able to use it for predictions and inference.\n"
     ]
    }
   ],
   "source": [
    "MODEL_NAME = \"bert-base-uncased\"\n",
    "tokenizer = AutoTokenizer.from_pretrained(MODEL_NAME)\n",
    "model = AutoModelForSequenceClassification.from_pretrained(\n",
    "    MODEL_NAME, \n",
    "    num_labels=3,\n",
    "    problem_type=\"single_label_classification\"\n",
    ")"
   ]
  },
  {
   "cell_type": "code",
   "execution_count": 9,
   "id": "c7c5bc06",
   "metadata": {},
   "outputs": [
    {
     "name": "stderr",
     "output_type": "stream",
     "text": [
      "Map: 100%|██████████| 46480/46480 [00:00<00:00, 245974.16 examples/s]\n",
      "Map: 100%|██████████| 11621/11621 [00:00<00:00, 247682.87 examples/s]\n",
      "Map: 100%|██████████| 46480/46480 [00:00<00:00, 46861.46 examples/s]\n",
      "Map: 100%|██████████| 11621/11621 [00:00<00:00, 58501.31 examples/s]\n"
     ]
    }
   ],
   "source": [
    "def tokenize_function(examples):\n",
    "    # Tokeniza e mantém o campo 'labels'\n",
    "    result = tokenizer(\n",
    "        examples[\"text\"],\n",
    "        truncation=True,\n",
    "        padding=True,\n",
    "        max_length=128,\n",
    "    )\n",
    "    result[\"labels\"] = examples[\"labels\"]\n",
    "    return result\n",
    "\n",
    "train_dataset = Dataset.from_dict({\n",
    "    \"text\": list(X_train),\n",
    "    \"labels\": list(y_train)\n",
    "})\n",
    "\n",
    "test_dataset = Dataset.from_dict({\n",
    "    \"text\": list(X_test),\n",
    "    \"labels\": list(y_test)\n",
    "})\n",
    "\n",
    "# Convert list of tokens back to string for tokenizer\n",
    "train_dataset = train_dataset.map(\n",
    "    lambda examples: {\"text\": [\" \".join(tokens) for tokens in examples[\"text\"]]},\n",
    "    batched=True\n",
    ")\n",
    "test_dataset = test_dataset.map(\n",
    "    lambda examples: {\"text\": [\" \".join(tokens) for tokens in examples[\"text\"]]},\n",
    "    batched=True\n",
    ")\n",
    "\n",
    "train_dataset = train_dataset.map(\n",
    "    tokenize_function, \n",
    "    batched=True, \n",
    "    remove_columns=[\"text\"]\n",
    ")\n",
    "test_dataset = test_dataset.map(\n",
    "    tokenize_function, \n",
    "    batched=True, \n",
    "    remove_columns=[\"text\"]\n",
    ")"
   ]
  },
  {
   "cell_type": "code",
   "execution_count": 10,
   "id": "100cfbab",
   "metadata": {},
   "outputs": [],
   "source": [
    "training_args = TrainingArguments(\n",
    "    output_dir=\"./bert_sentiment_results\",\n",
    "    learning_rate=2e-5,\n",
    "    per_device_train_batch_size=16,\n",
    "    per_device_eval_batch_size=16,\n",
    "    num_train_epochs=5,\n",
    "    weight_decay=0.01,\n",
    "    logging_dir=\"./logs\",\n",
    "    logging_steps=100,\n",
    "    eval_strategy=\"steps\",  # Corrected argument name\n",
    "    eval_steps=250,\n",
    "    save_strategy=\"steps\",\n",
    "    save_steps=250,\n",
    "    load_best_model_at_end=True,\n",
    "    metric_for_best_model=\"eval_accuracy\",\n",
    "    greater_is_better=True,\n",
    "    warmup_steps=500,\n",
    "    lr_scheduler_type=\"linear\",\n",
    "    seed=42,\n",
    "    data_seed=42,\n",
    "    remove_unused_columns=False,\n",
    "    report_to=None,  \n",
    ")\n",
    "\n",
    "def compute_metrics(eval_pred):\n",
    "    predictions, labels = eval_pred\n",
    "    predictions = np.argmax(predictions, axis=1)\n",
    "    accuracy = accuracy_score(labels, predictions)\n",
    "    return {\"accuracy\": accuracy}"
   ]
  },
  {
   "cell_type": "code",
   "execution_count": 11,
   "id": "7abc99b2",
   "metadata": {},
   "outputs": [],
   "source": [
    "data_collator = DataCollatorWithPadding(tokenizer=tokenizer)\n"
   ]
  },
  {
   "cell_type": "code",
   "execution_count": 12,
   "id": "c93a5a54",
   "metadata": {},
   "outputs": [],
   "source": [
    "trainer = Trainer(\n",
    "    model=model,\n",
    "    args=training_args,\n",
    "    train_dataset=train_dataset,\n",
    "    eval_dataset=test_dataset,\n",
    "    tokenizer=tokenizer,\n",
    "    data_collator=data_collator,\n",
    "    compute_metrics=compute_metrics,\n",
    "    callbacks=[EarlyStoppingCallback(early_stopping_patience=3)],\n",
    ")\n"
   ]
  },
  {
   "cell_type": "code",
   "execution_count": 13,
   "id": "129c5ce4",
   "metadata": {},
   "outputs": [
    {
     "data": {
      "text/html": [
       "\n",
       "    <div>\n",
       "      \n",
       "      <progress value='10500' max='14525' style='width:300px; height:20px; vertical-align: middle;'></progress>\n",
       "      [10500/14525 2:53:36 < 1:06:33, 1.01 it/s, Epoch 3/5]\n",
       "    </div>\n",
       "    <table border=\"1\" class=\"dataframe\">\n",
       "  <thead>\n",
       " <tr style=\"text-align: left;\">\n",
       "      <th>Step</th>\n",
       "      <th>Training Loss</th>\n",
       "      <th>Validation Loss</th>\n",
       "      <th>Accuracy</th>\n",
       "    </tr>\n",
       "  </thead>\n",
       "  <tbody>\n",
       "    <tr>\n",
       "      <td>250</td>\n",
       "      <td>1.065900</td>\n",
       "      <td>0.990935</td>\n",
       "      <td>0.526891</td>\n",
       "    </tr>\n",
       "    <tr>\n",
       "      <td>500</td>\n",
       "      <td>0.888200</td>\n",
       "      <td>0.831167</td>\n",
       "      <td>0.640995</td>\n",
       "    </tr>\n",
       "    <tr>\n",
       "      <td>750</td>\n",
       "      <td>0.806400</td>\n",
       "      <td>0.775750</td>\n",
       "      <td>0.676276</td>\n",
       "    </tr>\n",
       "    <tr>\n",
       "      <td>1000</td>\n",
       "      <td>0.795700</td>\n",
       "      <td>0.720924</td>\n",
       "      <td>0.696928</td>\n",
       "    </tr>\n",
       "    <tr>\n",
       "      <td>1250</td>\n",
       "      <td>0.713800</td>\n",
       "      <td>0.699513</td>\n",
       "      <td>0.715257</td>\n",
       "    </tr>\n",
       "    <tr>\n",
       "      <td>1500</td>\n",
       "      <td>0.723200</td>\n",
       "      <td>0.657363</td>\n",
       "      <td>0.734446</td>\n",
       "    </tr>\n",
       "    <tr>\n",
       "      <td>1750</td>\n",
       "      <td>0.686600</td>\n",
       "      <td>0.639232</td>\n",
       "      <td>0.750280</td>\n",
       "    </tr>\n",
       "    <tr>\n",
       "      <td>2000</td>\n",
       "      <td>0.635100</td>\n",
       "      <td>0.583737</td>\n",
       "      <td>0.767060</td>\n",
       "    </tr>\n",
       "    <tr>\n",
       "      <td>2250</td>\n",
       "      <td>0.607400</td>\n",
       "      <td>0.565513</td>\n",
       "      <td>0.776181</td>\n",
       "    </tr>\n",
       "    <tr>\n",
       "      <td>2500</td>\n",
       "      <td>0.581100</td>\n",
       "      <td>0.576683</td>\n",
       "      <td>0.779537</td>\n",
       "    </tr>\n",
       "    <tr>\n",
       "      <td>2750</td>\n",
       "      <td>0.597300</td>\n",
       "      <td>0.518641</td>\n",
       "      <td>0.798554</td>\n",
       "    </tr>\n",
       "    <tr>\n",
       "      <td>3000</td>\n",
       "      <td>0.419200</td>\n",
       "      <td>0.489865</td>\n",
       "      <td>0.818604</td>\n",
       "    </tr>\n",
       "    <tr>\n",
       "      <td>3250</td>\n",
       "      <td>0.373900</td>\n",
       "      <td>0.492599</td>\n",
       "      <td>0.823509</td>\n",
       "    </tr>\n",
       "    <tr>\n",
       "      <td>3500</td>\n",
       "      <td>0.352700</td>\n",
       "      <td>0.486628</td>\n",
       "      <td>0.836159</td>\n",
       "    </tr>\n",
       "    <tr>\n",
       "      <td>3750</td>\n",
       "      <td>0.369400</td>\n",
       "      <td>0.468345</td>\n",
       "      <td>0.835040</td>\n",
       "    </tr>\n",
       "    <tr>\n",
       "      <td>4000</td>\n",
       "      <td>0.366900</td>\n",
       "      <td>0.436994</td>\n",
       "      <td>0.849066</td>\n",
       "    </tr>\n",
       "    <tr>\n",
       "      <td>4250</td>\n",
       "      <td>0.323700</td>\n",
       "      <td>0.397131</td>\n",
       "      <td>0.859995</td>\n",
       "    </tr>\n",
       "    <tr>\n",
       "      <td>4500</td>\n",
       "      <td>0.305600</td>\n",
       "      <td>0.395724</td>\n",
       "      <td>0.861974</td>\n",
       "    </tr>\n",
       "    <tr>\n",
       "      <td>4750</td>\n",
       "      <td>0.317100</td>\n",
       "      <td>0.413121</td>\n",
       "      <td>0.858188</td>\n",
       "    </tr>\n",
       "    <tr>\n",
       "      <td>5000</td>\n",
       "      <td>0.302600</td>\n",
       "      <td>0.380233</td>\n",
       "      <td>0.868858</td>\n",
       "    </tr>\n",
       "    <tr>\n",
       "      <td>5250</td>\n",
       "      <td>0.306000</td>\n",
       "      <td>0.333883</td>\n",
       "      <td>0.884778</td>\n",
       "    </tr>\n",
       "    <tr>\n",
       "      <td>5500</td>\n",
       "      <td>0.290500</td>\n",
       "      <td>0.329421</td>\n",
       "      <td>0.890457</td>\n",
       "    </tr>\n",
       "    <tr>\n",
       "      <td>5750</td>\n",
       "      <td>0.291900</td>\n",
       "      <td>0.313372</td>\n",
       "      <td>0.894071</td>\n",
       "    </tr>\n",
       "    <tr>\n",
       "      <td>6000</td>\n",
       "      <td>0.162200</td>\n",
       "      <td>0.361096</td>\n",
       "      <td>0.895448</td>\n",
       "    </tr>\n",
       "    <tr>\n",
       "      <td>6250</td>\n",
       "      <td>0.175500</td>\n",
       "      <td>0.388756</td>\n",
       "      <td>0.895362</td>\n",
       "    </tr>\n",
       "    <tr>\n",
       "      <td>6500</td>\n",
       "      <td>0.197800</td>\n",
       "      <td>0.372955</td>\n",
       "      <td>0.895448</td>\n",
       "    </tr>\n",
       "    <tr>\n",
       "      <td>6750</td>\n",
       "      <td>0.185800</td>\n",
       "      <td>0.376688</td>\n",
       "      <td>0.899234</td>\n",
       "    </tr>\n",
       "    <tr>\n",
       "      <td>7000</td>\n",
       "      <td>0.170200</td>\n",
       "      <td>0.373426</td>\n",
       "      <td>0.899320</td>\n",
       "    </tr>\n",
       "    <tr>\n",
       "      <td>7250</td>\n",
       "      <td>0.193400</td>\n",
       "      <td>0.385991</td>\n",
       "      <td>0.899923</td>\n",
       "    </tr>\n",
       "    <tr>\n",
       "      <td>7500</td>\n",
       "      <td>0.191700</td>\n",
       "      <td>0.361801</td>\n",
       "      <td>0.905860</td>\n",
       "    </tr>\n",
       "    <tr>\n",
       "      <td>7750</td>\n",
       "      <td>0.162000</td>\n",
       "      <td>0.359681</td>\n",
       "      <td>0.911798</td>\n",
       "    </tr>\n",
       "    <tr>\n",
       "      <td>8000</td>\n",
       "      <td>0.157400</td>\n",
       "      <td>0.345889</td>\n",
       "      <td>0.911195</td>\n",
       "    </tr>\n",
       "    <tr>\n",
       "      <td>8250</td>\n",
       "      <td>0.173900</td>\n",
       "      <td>0.349422</td>\n",
       "      <td>0.910593</td>\n",
       "    </tr>\n",
       "    <tr>\n",
       "      <td>8500</td>\n",
       "      <td>0.164400</td>\n",
       "      <td>0.341537</td>\n",
       "      <td>0.913433</td>\n",
       "    </tr>\n",
       "    <tr>\n",
       "      <td>8750</td>\n",
       "      <td>0.163400</td>\n",
       "      <td>0.359723</td>\n",
       "      <td>0.911712</td>\n",
       "    </tr>\n",
       "    <tr>\n",
       "      <td>9000</td>\n",
       "      <td>0.120200</td>\n",
       "      <td>0.369982</td>\n",
       "      <td>0.918079</td>\n",
       "    </tr>\n",
       "    <tr>\n",
       "      <td>9250</td>\n",
       "      <td>0.144500</td>\n",
       "      <td>0.369711</td>\n",
       "      <td>0.914121</td>\n",
       "    </tr>\n",
       "    <tr>\n",
       "      <td>9500</td>\n",
       "      <td>0.120100</td>\n",
       "      <td>0.379195</td>\n",
       "      <td>0.919370</td>\n",
       "    </tr>\n",
       "    <tr>\n",
       "      <td>9750</td>\n",
       "      <td>0.115100</td>\n",
       "      <td>0.370437</td>\n",
       "      <td>0.921693</td>\n",
       "    </tr>\n",
       "    <tr>\n",
       "      <td>10000</td>\n",
       "      <td>0.115000</td>\n",
       "      <td>0.371473</td>\n",
       "      <td>0.920919</td>\n",
       "    </tr>\n",
       "    <tr>\n",
       "      <td>10250</td>\n",
       "      <td>0.113000</td>\n",
       "      <td>0.378950</td>\n",
       "      <td>0.919112</td>\n",
       "    </tr>\n",
       "    <tr>\n",
       "      <td>10500</td>\n",
       "      <td>0.100500</td>\n",
       "      <td>0.372516</td>\n",
       "      <td>0.920317</td>\n",
       "    </tr>\n",
       "  </tbody>\n",
       "</table><p>"
      ],
      "text/plain": [
       "<IPython.core.display.HTML object>"
      ]
     },
     "metadata": {},
     "output_type": "display_data"
    },
    {
     "data": {
      "text/plain": [
       "TrainOutput(global_step=10500, training_loss=0.3645571825844901, metrics={'train_runtime': 10417.6506, 'train_samples_per_second': 22.308, 'train_steps_per_second': 1.394, 'total_flos': 6271217866309536.0, 'train_loss': 0.3645571825844901, 'epoch': 3.6144578313253013})"
      ]
     },
     "execution_count": 13,
     "metadata": {},
     "output_type": "execute_result"
    }
   ],
   "source": [
    "trainer.train()\n"
   ]
  },
  {
   "cell_type": "code",
   "execution_count": 25,
   "id": "129c5ce4",
   "metadata": {},
   "outputs": [
    {
     "name": "stdout",
     "output_type": "stream",
     "text": [
      "Collected 105 training points and 42 evaluation points\n"
     ]
    }
   ],
   "source": [
    "log_history = trainer.state.log_history\n",
    "\n",
    "# Extract metrics for plotting\n",
    "train_losses = []\n",
    "train_accuracies = []\n",
    "eval_losses = []\n",
    "eval_accuracies = []\n",
    "epochs_train = []\n",
    "epochs_eval = []\n",
    "\n",
    "for log in log_history:\n",
    "    if 'loss' in log and 'epoch' in log:\n",
    "        train_losses.append(log['loss'])\n",
    "        epochs_train.append(log['epoch'])\n",
    "    if 'eval_loss' in log and 'epoch' in log:\n",
    "        eval_losses.append(log['eval_loss'])\n",
    "        eval_accuracies.append(log['eval_accuracy'])\n",
    "        epochs_eval.append(log['epoch'])\n",
    "\n",
    "    if 'train_accuracy' in log:\n",
    "        train_accuracies.append(log['train_accuracy'])\n",
    "\n",
    "\n",
    "\n",
    "print(f\"Collected {len(train_losses)} training points and {len(eval_losses)} evaluation points\")\n"
   ]
  },
  {
   "cell_type": "code",
   "execution_count": 26,
   "id": "66089da9",
   "metadata": {},
   "outputs": [
    {
     "data": {
      "text/html": [],
      "text/plain": [
       "<IPython.core.display.HTML object>"
      ]
     },
     "metadata": {},
     "output_type": "display_data"
    },
    {
     "name": "stdout",
     "output_type": "stream",
     "text": [
      "\n",
      "Final Test Accuracy: 0.9217\n"
     ]
    }
   ],
   "source": [
    "predictions = trainer.predict(test_dataset)\n",
    "y_pred = np.argmax(predictions.predictions, axis=1)\n",
    "y_true = predictions.label_ids\n",
    "\n",
    "# Calculate final accuracy\n",
    "final_accuracy = accuracy_score(y_true, y_pred)\n",
    "print(f\"\\nFinal Test Accuracy: {final_accuracy:.4f}\")"
   ]
  },
  {
   "cell_type": "code",
   "execution_count": 28,
   "id": "c2f041e6",
   "metadata": {},
   "outputs": [
    {
     "data": {
      "image/png": "[encoded data removed]",
      "text/plain": [
       "<Figure size 1500x500 with 2 Axes>"
      ]
     },
     "metadata": {},
     "output_type": "display_data"
    }
   ],
   "source": [
    "plt.figure(figsize=(15, 5))\n",
    "\n",
    "# Loss plot\n",
    "plt.subplot(1, 2, 1)\n",
    "if train_losses and eval_losses:\n",
    "    plt.plot(epochs_train, train_losses, 'b-o', label='Training Loss', linewidth=2, markersize=6)\n",
    "    plt.plot(epochs_eval, eval_losses, 'r-o', label='Validation Loss', linewidth=2, markersize=6)\n",
    "    plt.title('Training and Validation Loss', fontsize=14, fontweight='bold')\n",
    "    plt.xlabel('Epoch', fontsize=12)\n",
    "    plt.ylabel('Loss', fontsize=12)\n",
    "    plt.legend(fontsize=11)\n",
    "    plt.grid(True, alpha=0.3)\n",
    "\n",
    "# Accuracy plot\n",
    "plt.subplot(1, 2, 2)\n",
    "if train_accuracies:\n",
    "    plt.plot(epochs_train[:len(train_accuracies)], train_accuracies, 'b-o', label='Training Accuracy', linewidth=2, markersize=6)\n",
    "if eval_accuracies:\n",
    "    plt.plot(epochs_eval, eval_accuracies, 'g-o', label='Validation Accuracy', linewidth=2, markersize=6)\n",
    "plt.title('Accuracy', fontsize=14, fontweight='bold')\n",
    "plt.xlabel('Epoch', fontsize=12)\n",
    "plt.ylabel('Accuracy', fontsize=12)\n",
    "plt.legend(fontsize=11)\n",
    "plt.grid(True, alpha=0.3)\n",
    "plt.ylim([0, 1])\n",
    "\n",
    "plt.tight_layout()\n",
    "plt.show()\n"
   ]
  },
  {
   "cell_type": "code",
   "execution_count": 17,
   "id": "e9042e22",
   "metadata": {},
   "outputs": [
    {
     "name": "stdout",
     "output_type": "stream",
     "text": [
      "\n",
      "==================================================\n",
      "CLASSIFICATION REPORT\n",
      "==================================================\n",
      "              precision    recall  f1-score   support\n",
      "\n",
      "    negative     0.9217    0.9275    0.9245      4287\n",
      "     neutral     0.9267    0.9154    0.9210      3465\n",
      "    positive     0.9174    0.9209    0.9191      3869\n",
      "\n",
      "    accuracy                         0.9217     11621\n",
      "   macro avg     0.9219    0.9213    0.9216     11621\n",
      "weighted avg     0.9217    0.9217    0.9217     11621\n",
      "\n"
     ]
    }
   ],
   "source": [
    "# Classification report\n",
    "print(\"\\n\" + \"=\"*50)\n",
    "print(\"CLASSIFICATION REPORT\")\n",
    "print(\"=\"*50)\n",
    "print(classification_report(\n",
    "    y_true, \n",
    "    y_pred, \n",
    "    target_names=label_encoder.classes_,\n",
    "    digits=4\n",
    "))\n"
   ]
  },
  {
   "cell_type": "code",
   "execution_count": 18,
   "id": "9365d4a5",
   "metadata": {},
   "outputs": [
    {
     "data": {
      "image/png": "[encoded data removed]",
      "text/plain": [
       "<Figure size 1500x600 with 4 Axes>"
      ]
     },
     "metadata": {},
     "output_type": "display_data"
    }
   ],
   "source": [
    "plt.figure(figsize=(15, 6))\n",
    "conf_matrix = confusion_matrix(y_true, y_pred)\n",
    "conf_matrix_norm = conf_matrix.astype('float') / conf_matrix.sum(axis=1)[:, np.newaxis]\n",
    "\n",
    "# Absolute confusion matrix\n",
    "plt.subplot(1, 2, 1)\n",
    "sns.heatmap(conf_matrix, annot=True, fmt='d', cmap='Blues', \n",
    "            xticklabels=label_encoder.classes_,\n",
    "            yticklabels=label_encoder.classes_,\n",
    "            cbar_kws={'label': 'Count'})\n",
    "plt.xlabel('Predicted', fontsize=12)\n",
    "plt.ylabel('Actual', fontsize=12)\n",
    "plt.title('Confusion Matrix - Absolute Values', fontsize=14, fontweight='bold')\n",
    "\n",
    "# Normalized confusion matrix\n",
    "plt.subplot(1, 2, 2)\n",
    "sns.heatmap(conf_matrix_norm, annot=True, fmt='.3f', cmap='Blues', \n",
    "            xticklabels=label_encoder.classes_,\n",
    "            yticklabels=label_encoder.classes_,\n",
    "            cbar_kws={'label': 'Proportion'})\n",
    "plt.xlabel('Predicted', fontsize=12)\n",
    "plt.ylabel('Actual', fontsize=12)\n",
    "plt.title('Confusion Matrix - Normalized', fontsize=14, fontweight='bold')\n",
    "\n",
    "plt.tight_layout()\n",
    "plt.show()\n"
   ]
  },
  {
   "cell_type": "code",
   "execution_count": 19,
   "id": "dec7b2c4",
   "metadata": {},
   "outputs": [
    {
     "name": "stdout",
     "output_type": "stream",
     "text": [
      "\n",
      "==================================================\n",
      "PER-CLASS ANALYSIS\n",
      "==================================================\n",
      "  Negative: Accuracy=0.9275, Count=4287\n",
      "   Neutral: Accuracy=0.9154, Count=3465\n",
      "  Positive: Accuracy=0.9209, Count=3869\n"
     ]
    }
   ],
   "source": [
    "print(\"\\n\" + \"=\"*50)\n",
    "print(\"PER-CLASS ANALYSIS\")\n",
    "print(\"=\"*50)\n",
    "for i, class_name in enumerate(label_encoder.classes_):\n",
    "    class_mask = y_true == i\n",
    "    if np.sum(class_mask) > 0:\n",
    "        class_accuracy = accuracy_score(y_true[class_mask], y_pred[class_mask])\n",
    "        class_count = np.sum(class_mask)\n",
    "        print(f\"{class_name.capitalize():>10}: Accuracy={class_accuracy:.4f}, Count={class_count}\")\n"
   ]
  }
 ],
 "metadata": {
  "kernelspec": {
   "display_name": "meu_env",
   "language": "python",
   "name": "python3"
  },
  "language_info": {
   "codemirror_mode": {
    "name": "ipython",
    "version": 3
   },
   "file_extension": ".py",
   "mimetype": "text/x-python",
   "name": "python",
   "nbconvert_exporter": "python",
   "pygments_lexer": "ipython3",
   "version": "3.10.16"
  }
 },
 "nbformat": 4,
 "nbformat_minor": 5
}
